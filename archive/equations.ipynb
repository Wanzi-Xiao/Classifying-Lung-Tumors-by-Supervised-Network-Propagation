{
 "cells": [
  {
   "cell_type": "markdown",
   "metadata": {},
   "source": [
    "# Supervised Random Walk equations"
   ]
  },
  {
   "cell_type": "markdown",
   "metadata": {},
   "source": [
    "### Edge strength:  \n",
    "# $s_{ij}=\\frac{1}{1+\\exp(-w^Tx_{ij})}$"
   ]
  },
  {
   "cell_type": "markdown",
   "metadata": {},
   "source": [
    "### Transition matrix (network):  \n",
    "# $Q_{ij}=\\frac{s_{ij}}{\\sum_k s_{ik}}$"
   ]
  },
  {
   "cell_type": "markdown",
   "metadata": {},
   "source": [
    "### Random Walk:  \n",
    "# $P^{(t+1)}=(1-\\alpha)P^{(t)}Q+\\alpha P^{(0)}$"
   ]
  },
  {
   "cell_type": "markdown",
   "metadata": {},
   "source": [
    "### Objective function (squared loss):  \n",
    "# $\\min\\limits_w F(w)=\\lambda\\|w\\|_2^2+\\sum_{u,v} \\frac{y\\|p_u-p_v\\|_2^2}{n_{uv}}$  \n",
    ", where $y\in\{1,0\}$ indicates if $p_u$ and $p_v$ belong to the same group, and $n_{uv}$ is the number of sample pairs in that group"
   ]
  },
  {
   "cell_type": "markdown",
   "metadata": {},
   "source": [
    "### Objective function (\"Silhouette\" loss):  \n",
    "# $\\min\\limits_w F(w)=\\lambda\\|w\\|_2^2+\\sum_u \\frac{\\|p_u-C_a\\|_2^2-\\|p_u-C_b\\|_2^2}{\\max(\\|p_u-C_a\\|_2^2,\\|p_u-C_b\\|_2^2))}$  \n",
    ", where $C_a$ is the true group centroid of $p_u$, and $C_b$ is its nearest neighboring group center"
   ]
  },
  {
   "cell_type": "code",
   "execution_count": null,
   "metadata": {
    "collapsed": true
   },
   "outputs": [],
   "source": []
  },
  {
   "cell_type": "markdown",
   "metadata": {},
   "source": [
    "# Partial derivatives with respective to edge feature weights"
   ]
  },
  {
   "cell_type": "markdown",
   "metadata": {},
   "source": [
    "### Edge strenth:  \n",
    "# $\\frac{\\partial s_{ij}}{\\partial w_l}=x_{ijl}s_{ij}(1-s_{ij})$"
   ]
  },
  {
   "cell_type": "markdown",
   "metadata": {},
   "source": [
    "### Transition matrix (network):  \n",
    "# $\\frac{\\partial Q_{ij}}{\\partial w_l}=\\frac{\\frac{\\partial s_{ij}}{\\partial w_l}\\sum_k s_{ik}-s_{ij}\\sum_k \\frac{\\partial s_{ik}}{\\partial w_l}}{(\\sum_k s_{ik})^2}$"
   ]
  },
  {
   "cell_type": "markdown",
   "metadata": {},
   "source": [
    "### PageRank scores:\n",
    "# $\\frac{\\partial P}{\\partial w_l}^{(t+1)}=(1-\\alpha)(\\frac{\\partial P}{\\partial w_l}^{(t)}Q+P\\frac{\\partial Q}{\\partial w_l})$"
   ]
  },
  {
   "cell_type": "markdown",
   "metadata": {},
   "source": [
    "### Objective function (squared loss):  \n",
    "# $\\frac{\\partial F(w)}{\\partial w_l}=2\\lambda(w)+\\sum_{u,v} \\frac{2y}{n_{uv}}(p_u-p_v)^T(\\frac{\\partial p_u}{\\partial w_l}-\\frac{\\partial p_v}{\\partial w_l})$  \n",
    ", where $y\in\{1,0\}$ indicates if $p_u$ and $p_v$ belong to the same group, and $n_{uv}$ is the number of sample pairs in that group"
   ]
  },
  {
   "cell_type": "markdown",
   "metadata": {},
   "source": [
    "### Objective function (\"Silhouette\" loss):  \n",
    "# $\\frac{\\partial F(w)}{\\partial w_l}=2\\lambda(w)+\\sum_u \\frac{2(\\|p_u-C_b\\|_2^2(p_u-C_a)^T(\\frac{\\partial p_u}{\\partial w_l}-\\frac{\\partial C_a}{\\partial w_l})-\\|p_u-C_a\\|_2^2(p_u-C_b)^T(\\frac{\\partial p_u}{\\partial w_l}-\\frac{\\partial C_b}{\\partial w_l}))}{\\max (\\|p_u-C_a\\|_2^2,\\|p_u-C_b\\|_2^2)^2}$  \n",
    ", where $C_a$ is the true group centroid of $p_u$, and $C_b$ is its nearest neighboring group center"
   ]
  },
  {
   "cell_type": "code",
   "execution_count": null,
   "metadata": {
    "collapsed": true
   },
   "outputs": [],
   "source": []
  },
  {
   "cell_type": "code",
   "execution_count": null,
   "metadata": {
    "collapsed": true
   },
   "outputs": [],
   "source": []
  },
  {
   "cell_type": "code",
   "execution_count": null,
   "metadata": {
    "collapsed": true
   },
   "outputs": [],
   "source": []
  },
  {
   "cell_type": "code",
   "execution_count": null,
   "metadata": {
    "collapsed": true
   },
   "outputs": [],
   "source": []
  },
  {
   "cell_type": "code",
   "execution_count": null,
   "metadata": {
    "collapsed": true
   },
   "outputs": [],
   "source": []
  }
 ],
 "metadata": {
  "kernelspec": {
   "display_name": "Python 2",
   "language": "python",
   "name": "python2"
  },
  "language_info": {
   "codemirror_mode": {
    "name": "ipython",
    "version": 2
   },
   "file_extension": ".py",
   "mimetype": "text/x-python",
   "name": "python",
   "nbconvert_exporter": "python",
   "pygments_lexer": "ipython2",
   "version": "2.7.13"
  }
 },
 "nbformat": 4,
 "nbformat_minor": 2
}
