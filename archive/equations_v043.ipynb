{
 "cells": [
  {
   "cell_type": "markdown",
   "metadata": {},
   "source": [
    "# Supervised Random Walk equations (v0.4.3)"
   ]
  },
  {
   "cell_type": "markdown",
   "metadata": {},
   "source": [
    "## 1. Propagation"
   ]
  },
  {
   "cell_type": "markdown",
   "metadata": {},
   "source": [
    "#### 1.1 Edge strength:  \n",
    "# $s_{ij}=\\frac{1}{1+\\exp(-w^Tx_{ij})}$    "
   ]
  },
  {
   "cell_type": "markdown",
   "metadata": {},
   "source": [
    "#### 1.2 Transition matrix (network):  \n",
    "# $Q_{ij}=\\frac{s_{ij}}{\\sum_k s_{ik}}$"
   ]
  },
  {
   "cell_type": "markdown",
   "metadata": {},
   "source": [
    "#### 1.3 Random Walk:  \n",
    "# $P^{(t+1)}=(1-\\alpha)P^{(t)}Q+\\alpha P^{(0)}$"
   ]
  },
  {
   "cell_type": "markdown",
   "metadata": {
    "collapsed": true
   },
   "source": [
    "#### 1.4 Objective function (Wilcoxon-Mann-Whitney (WMW) loss):  \n",
    "# $\\min\\limits_w F(w)=\\lambda\\|w\\|_1+\\sum_u \\frac{1}{1+\\exp(-\\frac{x_u}{b})}$  \n",
    "where  \n",
    "# $x_u=\\|p_u-C_a\\|^2-\\|p_u-C_b\\|^2$\n",
    "where $C_a$ is the true group centroid of $p_u$, and $C_b$ is its nearest neighboring group center"
   ]
  },
  {
   "cell_type": "code",
   "execution_count": null,
   "metadata": {
    "collapsed": true
   },
   "outputs": [],
   "source": []
  },
  {
   "cell_type": "markdown",
   "metadata": {
    "collapsed": true
   },
   "source": [
    "## 2. Back propagation:  \n",
    "### Partial derivatives with respective to edge feature weights"
   ]
  },
  {
   "cell_type": "markdown",
   "metadata": {},
   "source": [
    "#### 2.1 Edge strenth:  \n",
    "# $\\frac{\\partial s_{ij}}{\\partial w_l}=x_{ijl}s_{ij}(1-s_{ij})$"
   ]
  },
  {
   "cell_type": "markdown",
   "metadata": {},
   "source": [
    "#### 2.2 Transition matrix (network):  \n",
    "# $\\frac{\\partial Q_{ij}}{\\partial w_l}=\\frac{\\frac{\\partial s_{ij}}{\\partial w_l}\\sum_k s_{ik}-s_{ij}\\sum_k \\frac{\\partial s_{ik}}{\\partial w_l}}{(\\sum_k s_{ik})^2}$"
   ]
  },
  {
   "cell_type": "markdown",
   "metadata": {},
   "source": [
    "#### 2.3 PageRank scores:\n",
    "# $\\frac{\\partial P}{\\partial w_l}^{(t+1)}=(1-\\alpha)(\\frac{\\partial P}{\\partial w_l}^{(t)}Q+P\\frac{\\partial Q}{\\partial w_l})$"
   ]
  },
  {
   "cell_type": "markdown",
   "metadata": {
    "collapsed": true
   },
   "source": [
    "#### 2.4 Objective function (Wilcoxon-Mann-Whitney (WMW) loss):  \n",
    "# $\\frac{\\partial F(w)}{\\partial w_l}=\\lambda\\mathrm{sign}(w)+\\sum_u \\frac{1}{b}F(w)(1-F(w))\\frac{\\partial x_u}{\\partial w_l}$  \n",
    "where  \n",
    "# $\\frac{\\partial x_u}{\\partial w_l}=2(p_u-C_a)^T(\\frac{\\partial p_u}{\\partial w_l}-\\frac{\\partial C_a}{\\partial w_l})-2(p_u-C_b)^T(\\frac{\\partial p_u}{\\partial w_l}-\\frac{\\partial C_b}{\\partial w_l})$\n",
    "where $C_a$ is the true group centroid of $p_u$, and $C_b$ is its nearest neighboring group center"
   ]
  },
  {
   "cell_type": "code",
   "execution_count": null,
   "metadata": {
    "collapsed": true
   },
   "outputs": [],
   "source": []
  },
  {
   "cell_type": "code",
   "execution_count": null,
   "metadata": {
    "collapsed": true
   },
   "outputs": [],
   "source": []
  },
  {
   "cell_type": "code",
   "execution_count": null,
   "metadata": {
    "collapsed": true
   },
   "outputs": [],
   "source": []
  },
  {
   "cell_type": "code",
   "execution_count": null,
   "metadata": {
    "collapsed": true
   },
   "outputs": [],
   "source": []
  }
 ],
 "metadata": {
  "kernelspec": {
   "display_name": "Python 2",
   "language": "python",
   "name": "python2"
  },
  "language_info": {
   "codemirror_mode": {
    "name": "ipython",
    "version": 2
   },
   "file_extension": ".py",
   "mimetype": "text/x-python",
   "name": "python",
   "nbconvert_exporter": "python",
   "pygments_lexer": "ipython2",
   "version": "2.7.13"
  }
 },
 "nbformat": 4,
 "nbformat_minor": 2
}
